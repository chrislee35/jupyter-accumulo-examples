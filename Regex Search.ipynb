{
 "cells": [
  {
   "cell_type": "code",
   "execution_count": null,
   "metadata": {
    "collapsed": false
   },
   "outputs": [],
   "source": [
    "#!/usr/bin/env python\n",
    "# Licensed to the Apache Software Foundation (ASF) under one or more\n",
    "# contributor license agreements.  See the NOTICE file distributed with\n",
    "# this work for additional information regarding copyright ownership.\n",
    "# The ASF licenses this file to You under the Apache License, Version 2.0\n",
    "# (the \"License\"); you may not use this file except in compliance with\n",
    "# the License.  You may obtain a copy of the License at\n",
    "#\n",
    "#     http://www.apache.org/licenses/LICENSE-2.0\n",
    "#\n",
    "# Unless required by applicable law or agreed to in writing, software\n",
    "# distributed under the License is distributed on an \"AS IS\" BASIS,\n",
    "# WITHOUT WARRANTIES OR CONDITIONS OF ANY KIND, either express or implied.\n",
    "# See the License for the specific language governing permissions and\n",
    "# limitations under the License.\n",
    "\n",
    "from pyaccumulo import Accumulo, Mutation, Range\n",
    "from pyaccumulo.iterators import *\n",
    "from pyaccumulo.proxy.ttypes import IteratorSetting, IteratorScope\n",
    "import settings\n",
    "\n",
    "conn = Accumulo(host=settings.HOST, port=settings.PORT, user=settings.USER, password=settings.PASSWORD)\n",
    "\n",
    "table = \"regexes\"\n",
    "if conn.table_exists(table):\n",
    "    conn.delete_table(table)\n",
    "conn.create_table(table)\n",
    "\n",
    "wr = conn.create_batch_writer(table)\n",
    "\n",
    "license_file = \"pyaccumulo_license.txt\"\n",
    "linenum = 0\n",
    "\n",
    "with file(license_file) as infile:\n",
    "    for line in infile:\n",
    "        linenum += 1\n",
    "        \n",
    "        m = Mutation(str(linenum))\n",
    "        m.put(cf=\"e\", cq=\"\", val=line.strip())\n",
    "        wr.add_mutation(m)\n",
    "wr.close()\n",
    "\n",
    "regex1 = RegExFilter(priority=21, val_regex=\".*stated.*\", match_substring=True, name=\"RegExFilter1\")\n",
    "regex2 = RegExFilter(priority=22, val_regex='.*patent', match_substring=True, name=\"RegExFilter2\")\n",
    "regex3 = RegExFilter(priority=23, val_regex='have made', match_substring=True, name=\"RegExFilter3\")\n",
    "\n",
    "for e in conn.batch_scan(table, cols=[[\"e\"]], iterators=[regex1, regex2, regex3]):\n",
    "    print e\n",
    "\n",
    "conn.close()"
   ]
  },
  {
   "cell_type": "code",
   "execution_count": null,
   "metadata": {
    "collapsed": true
   },
   "outputs": [],
   "source": []
  }
 ],
 "metadata": {
  "kernelspec": {
   "display_name": "Python 2",
   "language": "python",
   "name": "python2"
  },
  "language_info": {
   "codemirror_mode": {
    "name": "ipython",
    "version": 2
   },
   "file_extension": ".py",
   "mimetype": "text/x-python",
   "name": "python",
   "nbconvert_exporter": "python",
   "pygments_lexer": "ipython2",
   "version": "2.7.12+"
  }
 },
 "nbformat": 4,
 "nbformat_minor": 2
}
