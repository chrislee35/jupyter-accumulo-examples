{
 "cells": [
  {
   "cell_type": "code",
   "execution_count": null,
   "metadata": {
    "collapsed": false
   },
   "outputs": [],
   "source": [
    "#!/usr/bin/env python\n",
    "# Licensed to the Apache Software Foundation (ASF) under one or more\n",
    "# contributor license agreements.  See the NOTICE file distributed with\n",
    "# this work for additional information regarding copyright ownership.\n",
    "# The ASF licenses this file to You under the Apache License, Version 2.0\n",
    "# (the \"License\"); you may not use this file except in compliance with\n",
    "# the License.  You may obtain a copy of the License at\n",
    "#\n",
    "#     http://www.apache.org/licenses/LICENSE-2.0\n",
    "#\n",
    "# Unless required by applicable law or agreed to in writing, software\n",
    "# distributed under the License is distributed on an \"AS IS\" BASIS,\n",
    "# WITHOUT WARRANTIES OR CONDITIONS OF ANY KIND, either express or implied.\n",
    "# See the License for the specific language governing permissions and\n",
    "# limitations under the License.\n",
    "\n",
    "from pyaccumulo import Accumulo, Mutation, Range\n",
    "from pyaccumulo.iterators import *\n",
    "import settings\n",
    "\n",
    "conn = Accumulo(host=settings.HOST, port=settings.PORT, user=settings.USER, password=settings.PASSWORD)\n",
    "\n",
    "table = \"analytics\"\n",
    "\n",
    "if conn.table_exists(table):\n",
    "    conn.delete_table(table)\n",
    "conn.create_table(table)\n",
    "\n",
    "summing = SummingCombiner(priority=10)\n",
    "summing.add_column(\"sum\")\n",
    "summing.add_column(\"count\")\n",
    "summing.attach(conn, table)\n",
    "\n",
    "sumarray = SummingArrayCombiner(priority=11)\n",
    "sumarray.add_column(\"histo\")\n",
    "sumarray.attach(conn, table)\n",
    "\n",
    "mincom = MinCombiner(priority=12)\n",
    "mincom.add_column(\"min\")\n",
    "mincom.attach(conn, table)\n",
    "\n",
    "maxcom = MaxCombiner(priority=13)\n",
    "maxcom.add_column(\"max\")\n",
    "maxcom.attach(conn, table)\n",
    "\n",
    "wr = conn.create_batch_writer(table)\n",
    "\n",
    "for num in range(0, 1000):\n",
    "    m = Mutation(\"row\")\n",
    "    m.put(cf=\"sum\", cq=\"cq\", val=\"%d\"%num)\n",
    "    m.put(cf=\"count\", cq=\"cq\", val=\"%d\"%1)\n",
    "    m.put(cf=\"min\", cq=\"cq\", val=\"%d\"%num)\n",
    "    m.put(cf=\"max\", cq=\"cq\", val=\"%d\"%num)\n",
    "    m.put(cf=\"histo\", cq=\"cq\", val=\",\".join( [str(x) for x in [1,2,3,4,5,6,7,8,9]]))\n",
    "\n",
    "    wr.add_mutation(m)\n",
    "wr.close()\n",
    "\n",
    "for e in conn.scan(table):\n",
    "    print e\n",
    "    \n",
    "conn.close()"
   ]
  },
  {
   "cell_type": "code",
   "execution_count": null,
   "metadata": {
    "collapsed": true
   },
   "outputs": [],
   "source": []
  }
 ],
 "metadata": {
  "kernelspec": {
   "display_name": "Python 2",
   "language": "python",
   "name": "python2"
  },
  "language_info": {
   "codemirror_mode": {
    "name": "ipython",
    "version": 2
   },
   "file_extension": ".py",
   "mimetype": "text/x-python",
   "name": "python",
   "nbconvert_exporter": "python",
   "pygments_lexer": "ipython2",
   "version": "2.7.12+"
  }
 },
 "nbformat": 4,
 "nbformat_minor": 2
}
