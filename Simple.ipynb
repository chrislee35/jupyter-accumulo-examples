{
 "cells": [
  {
   "cell_type": "code",
   "execution_count": null,
   "metadata": {
    "collapsed": false
   },
   "outputs": [],
   "source": [
    "#!/usr/bin/env python\n",
    "# Licensed to the Apache Software Foundation (ASF) under one or more\n",
    "# contributor license agreements.  See the NOTICE file distributed with\n",
    "# this work for additional information regarding copyright ownership.\n",
    "# The ASF licenses this file to You under the Apache License, Version 2.0\n",
    "# (the \"License\"); you may not use this file except in compliance with\n",
    "# the License.  You may obtain a copy of the License at\n",
    "#\n",
    "#     http://www.apache.org/licenses/LICENSE-2.0\n",
    "#\n",
    "# Unless required by applicable law or agreed to in writing, software\n",
    "# distributed under the License is distributed on an \"AS IS\" BASIS,\n",
    "# WITHOUT WARRANTIES OR CONDITIONS OF ANY KIND, either express or implied.\n",
    "# See the License for the specific language governing permissions and\n",
    "# limitations under the License.\n",
    "\n",
    "from pyaccumulo import Accumulo, Mutation, Range\n",
    "import settings\n",
    "\n",
    "table = \"pythontest\"\n",
    "\n",
    "conn = Accumulo(host=settings.HOST, port=settings.PORT, user=settings.USER, password=settings.PASSWORD)\n",
    "\n",
    "if conn.table_exists(table):\n",
    "    conn.delete_table(table)\n",
    "\n",
    "conn.create_table(table)\n",
    "wr = conn.create_batch_writer(table)\n",
    "\n",
    "print \"Ingesting some data ...\"\n",
    "for num in range(1, 100):\n",
    "    label = '%03d'%num\n",
    "    mut = Mutation('r_%s'%label)\n",
    "    mut.put(cf='cf_%s'%label, cq='cq1', val='value_%s'%label)\n",
    "    mut.put(cf='cf_%s'%label, cq='cq2', val='value_%s'%label)\n",
    "    wr.add_mutation(mut)\n",
    "wr.close()\n",
    "\n",
    "\n",
    "print \"Rows 001 through 003 ...\"\n",
    "for entry in conn.scan(table, scanrange=Range(srow='r_001', erow='r_003'), cols=[]):\n",
    "    print entry\n",
    "\n",
    "print \"Rows 001 and 011 ...\"\n",
    "for entry in conn.batch_scan(table, scanranges=[Range(srow='r_001', erow='r_001'), Range(srow='r_011', erow='r_011')]):\n",
    "    print entry\n",
    "\n",
    "conn.close()"
   ]
  },
  {
   "cell_type": "code",
   "execution_count": null,
   "metadata": {
    "collapsed": true
   },
   "outputs": [],
   "source": []
  }
 ],
 "metadata": {
  "kernelspec": {
   "display_name": "Python 2",
   "language": "python",
   "name": "python2"
  },
  "language_info": {
   "codemirror_mode": {
    "name": "ipython",
    "version": 2
   },
   "file_extension": ".py",
   "mimetype": "text/x-python",
   "name": "python",
   "nbconvert_exporter": "python",
   "pygments_lexer": "ipython2",
   "version": "2.7.12+"
  }
 },
 "nbformat": 4,
 "nbformat_minor": 2
}
